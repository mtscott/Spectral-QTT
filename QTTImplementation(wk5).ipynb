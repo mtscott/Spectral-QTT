{
 "cells": [
  {
   "cell_type": "markdown",
   "id": "0870d241-5503-4ffb-a3c2-831ff8b7d5bf",
   "metadata": {},
   "source": [
    "#  Summer Research \\# 5\n",
    "## Implimentation to QTT\n",
    "\n",
    "#### Executive Summary\n",
    "** Insert Executive Summary Here **\n",
    "\n",
    "### Chebyshev Basis functions"
   ]
  },
  {
   "cell_type": "code",
   "execution_count": 11,
   "id": "e2697fd5-b0d5-4db0-bb3c-f79dbbcf0f29",
   "metadata": {},
   "outputs": [],
   "source": [
    "#from setup.configs import *\n",
    "import numpy as np\n",
    "import quimb.tensor as qtn\n",
    "# import helper_quimb as helper\n",
    "# from axis import Axis\n",
    "# import axis_map\n",
    "# from basis.basis import Basis\n",
    "import numpy.linalg as npla\n",
    "import matplotlib.pyplot as plt\n",
    "import scipy as sp\n",
    "import scipy.linalg as spla\n",
    "import scipy.sparse as sps\n",
    "from scipy import special\n",
    "from sympy import Symbol\n",
    "from sympy.matrices import Matrix, eye, zeros, ones, diag, GramSchmidt\n",
    "\n",
    "#if TYPE_CHECKING:\n",
    "#    from axis import Axis"
   ]
  },
  {
   "cell_type": "code",
   "execution_count": 12,
   "id": "6465bd2d-650f-4085-a379-4e57eae80f12",
   "metadata": {},
   "outputs": [],
   "source": [
    "np.random.seed(12345)"
   ]
  },
  {
   "cell_type": "code",
   "execution_count": 13,
   "id": "eebbd43d-44d0-40c7-b077-88df11ecb901",
   "metadata": {},
   "outputs": [
    {
     "data": {
      "image/png": "[encoded data removed]",
      "text/plain": [
       "<Figure size 640x480 with 1 Axes>"
      ]
     },
     "metadata": {},
     "output_type": "display_data"
    }
   ],
   "source": [
    "ms = np.linspace(-np.pi ,np.pi, 10)\n",
    "mat = np.diag( 2 * ms, k=1) \n",
    "plt.spy(mat)\n",
    "plt.show()"
   ]
  },
  {
   "cell_type": "code",
   "execution_count": 14,
   "id": "6f3348dd-47c1-4361-9f2d-31298d58dde5",
   "metadata": {},
   "outputs": [
    {
     "data": {
      "image/png": "[encoded data removed]",
      "text/plain": [
       "<Figure size 640x480 with 1 Axes>"
      ]
     },
     "metadata": {},
     "output_type": "display_data"
    }
   ],
   "source": [
    "mat2 = np.dot(mat, mat)\n",
    "plt.spy(mat2)\n",
    "plt.show()"
   ]
  },
  {
   "cell_type": "code",
   "execution_count": 15,
   "id": "e3081692-4491-4d85-a4c8-5f65928f9824",
   "metadata": {},
   "outputs": [
    {
     "name": "stdout",
     "output_type": "stream",
     "text": [
      "[[ 2.  0. -1.  0.  0.  0.  0.  0.  0.  0.]\n",
      " [ 0.  1.  0. -1.  0.  0.  0.  0.  0.  0.]\n",
      " [ 0.  0.  1.  0. -1.  0.  0.  0.  0.  0.]\n",
      " [ 0.  0.  0.  1.  0. -1.  0.  0.  0.  0.]\n",
      " [ 0.  0.  0.  0.  1.  0. -1.  0.  0.  0.]\n",
      " [ 0.  0.  0.  0.  0.  1.  0. -1.  0.  0.]\n",
      " [ 0.  0.  0.  0.  0.  0.  1.  0. -1.  0.]\n",
      " [ 0.  0.  0.  0.  0.  0.  0.  1.  0. -1.]\n",
      " [ 0.  0.  0.  0.  0.  0.  0.  0.  1.  0.]\n",
      " [ 0.  0.  0.  0.  0.  0.  0.  0.  0.  1.]]\n"
     ]
    }
   ],
   "source": [
    "n = 10\n",
    "ex = np.ones(n)\n",
    "\n",
    "A = np.diag(ex, k=0) + np.diag(-1*ex[2:],k=2)\n",
    "A[0,0] *= 2\n",
    "\n",
    "print(A)"
   ]
  },
  {
   "cell_type": "code",
   "execution_count": 16,
   "id": "f265edf6-4ece-4c54-a7f7-123cf93e81b8",
   "metadata": {},
   "outputs": [
    {
     "name": "stdout",
     "output_type": "stream",
     "text": [
      "[[ 0  2  0  0  0  0  0  0  0  0]\n",
      " [ 0  0  4  0  0  0  0  0  0  0]\n",
      " [ 0  0  0  6  0  0  0  0  0  0]\n",
      " [ 0  0  0  0  8  0  0  0  0  0]\n",
      " [ 0  0  0  0  0 10  0  0  0  0]\n",
      " [ 0  0  0  0  0  0 12  0  0  0]\n",
      " [ 0  0  0  0  0  0  0 14  0  0]\n",
      " [ 0  0  0  0  0  0  0  0 16  0]\n",
      " [ 0  0  0  0  0  0  0  0  0 18]\n",
      " [ 0  0  0  0  0  0  0  0  0  0]]\n"
     ]
    }
   ],
   "source": [
    "B = np.diag(np.arange(2,2*n,2), k=1)\n",
    "#B = B[:-1,:]\n",
    "print(B)"
   ]
  },
  {
   "cell_type": "code",
   "execution_count": 17,
   "id": "519cce40-e0e9-4e6a-ac0f-f1e406a0d7b5",
   "metadata": {},
   "outputs": [
    {
     "name": "stdout",
     "output_type": "stream",
     "text": [
      "[[ 0.  1.  0.  3.  0.  5.  0.  7.  0.  9.]\n",
      " [ 0.  0.  4.  0.  8.  0. 12.  0. 16.  0.]\n",
      " [ 0.  0.  0.  6.  0. 10.  0. 14.  0. 18.]\n",
      " [ 0.  0.  0.  0.  8.  0. 12.  0. 16.  0.]\n",
      " [ 0.  0.  0.  0.  0. 10.  0. 14.  0. 18.]\n",
      " [ 0.  0.  0.  0.  0.  0. 12.  0. 16.  0.]\n",
      " [ 0.  0.  0.  0.  0.  0.  0. 14.  0. 18.]\n",
      " [ 0.  0.  0.  0.  0.  0.  0.  0. 16.  0.]\n",
      " [ 0.  0.  0.  0.  0.  0.  0.  0.  0. 18.]\n",
      " [ 0.  0.  0.  0.  0.  0.  0.  0.  0.  0.]]\n"
     ]
    }
   ],
   "source": [
    "Ai = npla.inv(A)\n",
    "E = Ai @ B\n",
    "\n",
    "print(E)"
   ]
  },
  {
   "cell_type": "code",
   "execution_count": 18,
   "id": "0b5ca3dc-2ba7-4aa0-a662-2023dca453d8",
   "metadata": {},
   "outputs": [
    {
     "name": "stdout",
     "output_type": "stream",
     "text": [
      "[[  0.   0.   4.   0.  32.   0. 108.   0. 256.   0.]\n",
      " [  0.   0.   0.  24.   0. 120.   0. 336.   0. 720.]\n",
      " [  0.   0.   0.   0.  48.   0. 192.   0. 480.   0.]\n",
      " [  0.   0.   0.   0.   0.  80.   0. 280.   0. 648.]\n",
      " [  0.   0.   0.   0.   0.   0. 120.   0. 384.   0.]\n",
      " [  0.   0.   0.   0.   0.   0.   0. 168.   0. 504.]\n",
      " [  0.   0.   0.   0.   0.   0.   0.   0. 224.   0.]\n",
      " [  0.   0.   0.   0.   0.   0.   0.   0.   0. 288.]\n",
      " [  0.   0.   0.   0.   0.   0.   0.   0.   0.   0.]\n",
      " [  0.   0.   0.   0.   0.   0.   0.   0.   0.   0.]]\n"
     ]
    }
   ],
   "source": [
    "E2 = E@E\n",
    "print(E2)"
   ]
  },
  {
   "cell_type": "code",
   "execution_count": 19,
   "id": "232633ef-c084-4e5e-85ec-59395430308f",
   "metadata": {},
   "outputs": [
    {
     "data": {
      "text/plain": [
       "array([[ 0.,  1.,  0.,  3.,  0.,  5.,  0.,  7.,  0.,  9.],\n",
       "       [ 0.,  0.,  4.,  0.,  8.,  0., 12.,  0., 16.,  0.],\n",
       "       [ 0.,  0.,  0.,  6.,  0., 10.,  0., 14.,  0., 18.],\n",
       "       [ 0.,  0.,  0.,  0.,  8.,  0., 12.,  0., 16.,  0.],\n",
       "       [ 0.,  0.,  0.,  0.,  0., 10.,  0., 14.,  0., 18.],\n",
       "       [ 0.,  0.,  0.,  0.,  0.,  0., 12.,  0., 16.,  0.],\n",
       "       [ 0.,  0.,  0.,  0.,  0.,  0.,  0., 14.,  0., 18.],\n",
       "       [ 0.,  0.,  0.,  0.,  0.,  0.,  0.,  0., 16.,  0.],\n",
       "       [ 0.,  0.,  0.,  0.,  0.,  0.,  0.,  0.,  0., 18.],\n",
       "       [ 0.,  0.,  0.,  0.,  0.,  0.,  0.,  0.,  0.,  0.]])"
      ]
     },
     "execution_count": 19,
     "metadata": {},
     "output_type": "execute_result"
    }
   ],
   "source": [
    "mat = np.zeros((n,n))\n",
    "mat[0,1::2] = np.arange(1,n,2)\n",
    "for i in range(1,n-1):\n",
    "    mat[i, i+1::2] = np.arange(2*(i+1),2*n-1,4)\n",
    "\n",
    "mat"
   ]
  },
  {
   "cell_type": "code",
   "execution_count": 55,
   "id": "9344a20c",
   "metadata": {},
   "outputs": [
    {
     "data": {
      "text/plain": [
       "array([[  0.,   0.,   4.,   0.,  32.,   0., 108.,   0., 256.,   0.],\n",
       "       [  0.,   0.,   0.,  24.,   0., 120.,   0., 336.,   0., 720.],\n",
       "       [  0.,   0.,   0.,   0.,  48.,   0., 192.,   0., 480.,   0.],\n",
       "       [  0.,   0.,   0.,   0.,   0.,  80.,   0., 280.,   0., 648.],\n",
       "       [  0.,   0.,   0.,   0.,   0.,   0., 120.,   0., 384.,   0.],\n",
       "       [  0.,   0.,   0.,   0.,   0.,   0.,   0., 168.,   0., 504.],\n",
       "       [  0.,   0.,   0.,   0.,   0.,   0.,   0.,   0., 224.,   0.],\n",
       "       [  0.,   0.,   0.,   0.,   0.,   0.,   0.,   0.,   0., 288.],\n",
       "       [  0.,   0.,   0.,   0.,   0.,   0.,   0.,   0.,   0.,   0.],\n",
       "       [  0.,   0.,   0.,   0.,   0.,   0.,   0.,   0.,   0.,   0.]])"
      ]
     },
     "execution_count": 55,
     "metadata": {},
     "output_type": "execute_result"
    }
   ],
   "source": [
    "mat = np.zeros((n,n))\n",
    "\n",
    "mat[0,2::2] = 0.5 * np.arange(2,n,2)**3\n",
    "for i in range(1,n-2):\n",
    "    for j in range(i+2,n,2):\n",
    "        mat[i,j] = j*(j**2 - i**2)\n",
    "\n",
    "mat"
   ]
  },
  {
   "cell_type": "code",
   "execution_count": 20,
   "id": "cf4b57f4-7280-470e-9c7e-5969ef2db2d9",
   "metadata": {},
   "outputs": [
    {
     "data": {
      "text/plain": [
       "array([2832., 9504., 5184., 8192., 3792., 5712., 1792., 2592.,    0.,\n",
       "          0.])"
      ]
     },
     "execution_count": 20,
     "metadata": {},
     "output_type": "execute_result"
    }
   ],
   "source": [
    "ms = np.arange(10)\n",
    "m2 = mat.dot(mat.dot(ms))\n",
    "m2"
   ]
  },
  {
   "cell_type": "code",
   "execution_count": 21,
   "id": "6f8021df-e3df-4759-8d86-0f94e2a10e65",
   "metadata": {},
   "outputs": [
    {
     "data": {
      "text/plain": [
       "array([2832., 9504., 5184., 8192., 3792., 5712., 1792., 2592.,    0.,\n",
       "          0.])"
      ]
     },
     "execution_count": 21,
     "metadata": {},
     "output_type": "execute_result"
    }
   ],
   "source": [
    "E2ms = E2.dot(ms)\n",
    "E2ms"
   ]
  },
  {
   "cell_type": "code",
   "execution_count": 22,
   "id": "07a797c9-c5c9-4181-b17c-487dd353ecff",
   "metadata": {},
   "outputs": [
    {
     "data": {
      "text/plain": [
       "array([2832., 9504., 5184., 8192., 3792., 5712., 1792., 2592.,    0.,\n",
       "          0.])"
      ]
     },
     "execution_count": 22,
     "metadata": {},
     "output_type": "execute_result"
    }
   ],
   "source": [
    "m2at = mat @ (mat @ ms)\n",
    "m2at"
   ]
  },
  {
   "cell_type": "code",
   "execution_count": 26,
   "id": "bfabb411",
   "metadata": {},
   "outputs": [
    {
     "data": {
      "text/latex": [
       "$\\displaystyle \\left[\\begin{matrix}0 & 1 & 0 & 0 & 0 & 0 & 0 & 0 & 0 & 0\\\\0 & 0 & 2 & 0 & 0 & 0 & 0 & 0 & 0 & 0\\\\0 & 0 & 0 & 3 & 0 & 0 & 0 & 0 & 0 & 0\\\\0 & 0 & 0 & 0 & 4 & 0 & 0 & 0 & 0 & 0\\\\0 & 0 & 0 & 0 & 0 & 5 & 0 & 0 & 0 & 0\\\\0 & 0 & 0 & 0 & 0 & 0 & 6 & 0 & 0 & 0\\\\0 & 0 & 0 & 0 & 0 & 0 & 0 & 7 & 0 & 0\\\\0 & 0 & 0 & 0 & 0 & 0 & 0 & 0 & 8 & 0\\\\0 & 0 & 0 & 0 & 0 & 0 & 0 & 0 & 0 & 9\\\\0 & 0 & 0 & 0 & 0 & 0 & 0 & 0 & 0 & 0\\end{matrix}\\right]$"
      ],
      "text/plain": [
       "Matrix([\n",
       "[0, 1, 0, 0, 0, 0, 0, 0, 0, 0],\n",
       "[0, 0, 2, 0, 0, 0, 0, 0, 0, 0],\n",
       "[0, 0, 0, 3, 0, 0, 0, 0, 0, 0],\n",
       "[0, 0, 0, 0, 4, 0, 0, 0, 0, 0],\n",
       "[0, 0, 0, 0, 0, 5, 0, 0, 0, 0],\n",
       "[0, 0, 0, 0, 0, 0, 6, 0, 0, 0],\n",
       "[0, 0, 0, 0, 0, 0, 0, 7, 0, 0],\n",
       "[0, 0, 0, 0, 0, 0, 0, 0, 8, 0],\n",
       "[0, 0, 0, 0, 0, 0, 0, 0, 0, 9],\n",
       "[0, 0, 0, 0, 0, 0, 0, 0, 0, 0]])"
      ]
     },
     "execution_count": 26,
     "metadata": {},
     "output_type": "execute_result"
    }
   ],
   "source": [
    "D = Matrix(n, n, lambda i,j : (i+1) * int(i==j-1))\n",
    "D"
   ]
  },
  {
   "cell_type": "code",
   "execution_count": 36,
   "id": "adffbfd8-0517-4996-8538-b0471b3c97c9",
   "metadata": {},
   "outputs": [
    {
     "data": {
      "text/latex": [
       "$\\displaystyle \\left[\\begin{matrix}1.0 & 0 & 1.0 & 0 & 1.0 & 0 & 1.0 & 0 & 1.0 & 0\\\\0 & 2.0 & 0 & 2.0 & 0 & 2.0 & 0 & 2.0 & 0 & 2.0\\\\0 & 0 & 2.0 & 0 & 2.0 & 0 & 2.0 & 0 & 2.0 & 0\\\\0 & 0 & 0 & 2.0 & 0 & 2.0 & 0 & 2.0 & 0 & 2.0\\\\0 & 0 & 0 & 0 & 2.0 & 0 & 2.0 & 0 & 2.0 & 0\\\\0 & 0 & 0 & 0 & 0 & 2.0 & 0 & 2.0 & 0 & 2.0\\\\0 & 0 & 0 & 0 & 0 & 0 & 2.0 & 0 & 2.0 & 0\\\\0 & 0 & 0 & 0 & 0 & 0 & 0 & 2.0 & 0 & 2.0\\\\0 & 0 & 0 & 0 & 0 & 0 & 0 & 0 & 2.0 & 0\\\\0 & 0 & 0 & 0 & 0 & 0 & 0 & 0 & 0 & 2.0\\end{matrix}\\right]$"
      ],
      "text/plain": [
       "Matrix([\n",
       "[1.0,   0, 1.0,   0, 1.0,   0, 1.0,   0, 1.0,   0],\n",
       "[  0, 2.0,   0, 2.0,   0, 2.0,   0, 2.0,   0, 2.0],\n",
       "[  0,   0, 2.0,   0, 2.0,   0, 2.0,   0, 2.0,   0],\n",
       "[  0,   0,   0, 2.0,   0, 2.0,   0, 2.0,   0, 2.0],\n",
       "[  0,   0,   0,   0, 2.0,   0, 2.0,   0, 2.0,   0],\n",
       "[  0,   0,   0,   0,   0, 2.0,   0, 2.0,   0, 2.0],\n",
       "[  0,   0,   0,   0,   0,   0, 2.0,   0, 2.0,   0],\n",
       "[  0,   0,   0,   0,   0,   0,   0, 2.0,   0, 2.0],\n",
       "[  0,   0,   0,   0,   0,   0,   0,   0, 2.0,   0],\n",
       "[  0,   0,   0,   0,   0,   0,   0,   0,   0, 2.0]])"
      ]
     },
     "execution_count": 36,
     "metadata": {},
     "output_type": "execute_result"
    }
   ],
   "source": [
    "x = Symbol('x')\n",
    "#M = eye(3) * x\n",
    "S = Matrix(n, n, lambda i,j : 1/(2) * int(i==j)) + Matrix(n, n, lambda i,j : -1/2 * int(i==j -2))\n",
    "S[0,0] *=2\n",
    "S.inv()"
   ]
  },
  {
   "cell_type": "code",
   "execution_count": 39,
   "id": "29602113",
   "metadata": {},
   "outputs": [
    {
     "data": {
      "text/latex": [
       "$\\displaystyle \\left[\\begin{matrix}0 & 0 & 4.0 & 0 & 32.0 & 0 & 108.0 & 0 & 256.0 & 0\\\\0 & 0 & 0 & 24.0 & 0 & 120.0 & 0 & 336.0 & 0 & 720.0\\\\0 & 0 & 0 & 0 & 48.0 & 0 & 192.0 & 0 & 480.0 & 0\\\\0 & 0 & 0 & 0 & 0 & 80.0 & 0 & 280.0 & 0 & 648.0\\\\0 & 0 & 0 & 0 & 0 & 0 & 120.0 & 0 & 384.0 & 0\\\\0 & 0 & 0 & 0 & 0 & 0 & 0 & 168.0 & 0 & 504.0\\\\0 & 0 & 0 & 0 & 0 & 0 & 0 & 0 & 224.0 & 0\\\\0 & 0 & 0 & 0 & 0 & 0 & 0 & 0 & 0 & 288.0\\\\0 & 0 & 0 & 0 & 0 & 0 & 0 & 0 & 0 & 0\\\\0 & 0 & 0 & 0 & 0 & 0 & 0 & 0 & 0 & 0\\end{matrix}\\right]$"
      ],
      "text/plain": [
       "Matrix([\n",
       "[0, 0, 4.0,    0, 32.0,     0, 108.0,     0, 256.0,     0],\n",
       "[0, 0,   0, 24.0,    0, 120.0,     0, 336.0,     0, 720.0],\n",
       "[0, 0,   0,    0, 48.0,     0, 192.0,     0, 480.0,     0],\n",
       "[0, 0,   0,    0,    0,  80.0,     0, 280.0,     0, 648.0],\n",
       "[0, 0,   0,    0,    0,     0, 120.0,     0, 384.0,     0],\n",
       "[0, 0,   0,    0,    0,     0,     0, 168.0,     0, 504.0],\n",
       "[0, 0,   0,    0,    0,     0,     0,     0, 224.0,     0],\n",
       "[0, 0,   0,    0,    0,     0,     0,     0,     0, 288.0],\n",
       "[0, 0,   0,    0,    0,     0,     0,     0,     0,     0],\n",
       "[0, 0,   0,    0,    0,     0,     0,     0,     0,     0]])"
      ]
     },
     "execution_count": 39,
     "metadata": {},
     "output_type": "execute_result"
    }
   ],
   "source": [
    "S.inv() * D * S.inv() * D"
   ]
  },
  {
   "cell_type": "markdown",
   "id": "57634b83-5b0a-41ec-a325-900fe49ed4c1",
   "metadata": {},
   "source": [
    "### Gegenbauer"
   ]
  },
  {
   "cell_type": "code",
   "execution_count": 17,
   "id": "c2c4ecba-f3ef-4379-91bb-a040d240ddd8",
   "metadata": {},
   "outputs": [
    {
     "data": {
      "text/plain": [
       "array([[ 1.        ,  0.        , -0.42857143,  0.        ,  0.        ,\n",
       "         0.        ],\n",
       "       [ 0.        ,  0.6       ,  0.        , -0.33333333,  0.        ,\n",
       "         0.        ],\n",
       "       [ 0.        ,  0.        ,  0.42857143,  0.        , -0.27272727,\n",
       "         0.        ],\n",
       "       [ 0.        ,  0.        ,  0.        ,  0.33333333,  0.        ,\n",
       "        -0.23076923],\n",
       "       [ 0.        ,  0.        ,  0.        ,  0.        ,  0.27272727,\n",
       "         0.        ],\n",
       "       [ 0.        ,  0.        ,  0.        ,  0.        ,  0.        ,\n",
       "         0.23076923]])"
      ]
     },
     "execution_count": 17,
     "metadata": {},
     "output_type": "execute_result"
    }
   ],
   "source": [
    "lam = 1.5\n",
    "ilam = int(lam)\n",
    "n = 6\n",
    "D = 2 ** (lam - 1) * sp.special.factorial(lam-1)* np.diag(np.arange(n-ilam) + lam, k=ilam)\n",
    "\n",
    "S = np.diag(lam / (lam + np.arange(n))) + np.diag(-lam/(lam+2 + np.arange(n-2)), k=2)\n",
    "S"
   ]
  },
  {
   "cell_type": "code",
   "execution_count": 75,
   "id": "a7b865c5-b876-4575-b5ea-174feecf7a76",
   "metadata": {},
   "outputs": [
    {
     "data": {
      "text/latex": [
       "$\\displaystyle \\left[\\begin{matrix}1 & 0 & 1 & 0 & 1 & 0\\\\0 & \\frac{x + 1}{x} & 0 & \\frac{x + 1}{x} & 0 & \\frac{x + 1}{x}\\\\0 & 0 & \\frac{x + 2}{x} & 0 & \\frac{x + 2}{x} & 0\\\\0 & 0 & 0 & \\frac{x + 3}{x} & 0 & \\frac{x + 3}{x}\\\\0 & 0 & 0 & 0 & 1 + \\frac{4}{x} & 0\\\\0 & 0 & 0 & 0 & 0 & 1 + \\frac{5}{x}\\end{matrix}\\right]$"
      ],
      "text/plain": [
       "Matrix([\n",
       "[1,         0,         1,         0,         1,         0],\n",
       "[0, (x + 1)/x,         0, (x + 1)/x,         0, (x + 1)/x],\n",
       "[0,         0, (x + 2)/x,         0, (x + 2)/x,         0],\n",
       "[0,         0,         0, (x + 3)/x,         0, (x + 3)/x],\n",
       "[0,         0,         0,         0,   1 + 4/x,         0],\n",
       "[0,         0,         0,         0,         0,   1 + 5/x]])"
      ]
     },
     "execution_count": 75,
     "metadata": {},
     "output_type": "execute_result"
    }
   ],
   "source": [
    "x = Symbol('x')\n",
    "#M = eye(3) * x\n",
    "S = Matrix(n, n, lambda i,j : x/(x+i) * int(i==j)) + Matrix(n, n, lambda i,j : -x/(x+i+2) * int(i==j -2))\n",
    "S.inv()"
   ]
  },
  {
   "cell_type": "code",
   "execution_count": 107,
   "id": "be22f653-e31c-4287-93a2-075abc2df202",
   "metadata": {},
   "outputs": [
    {
     "data": {
      "text/latex": [
       "$\\displaystyle \\left[\\begin{matrix}0 & x & 0 & 0 & 0 & 0\\\\0 & 0 & x + 1 & 0 & 0 & 0\\\\0 & 0 & 0 & x + 2 & 0 & 0\\\\0 & 0 & 0 & 0 & x + 3 & 0\\\\0 & 0 & 0 & 0 & 0 & x + 4\\\\0 & 0 & 0 & 0 & 0 & 0\\end{matrix}\\right]$"
      ],
      "text/plain": [
       "Matrix([\n",
       "[0, x,     0,     0,     0,     0],\n",
       "[0, 0, x + 1,     0,     0,     0],\n",
       "[0, 0,     0, x + 2,     0,     0],\n",
       "[0, 0,     0,     0, x + 3,     0],\n",
       "[0, 0,     0,     0,     0, x + 4],\n",
       "[0, 0,     0,     0,     0,     0]])"
      ]
     },
     "execution_count": 107,
     "metadata": {},
     "output_type": "execute_result"
    }
   ],
   "source": [
    "D = Matrix(n, n, lambda i,j : (x+i) * int(i==j-1))\n",
    "D"
   ]
  },
  {
   "cell_type": "code",
   "execution_count": 108,
   "id": "398a7335-15a7-42c7-a7f4-3c6ea398ef0d",
   "metadata": {},
   "outputs": [
    {
     "data": {
      "text/latex": [
       "$\\displaystyle \\left[\\begin{matrix}0 & x & 0 & x + 2 & 0 & x + 4\\\\0 & 0 & \\frac{\\left(x + 1\\right)^{2}}{x} & 0 & \\frac{\\left(x + 1\\right) \\left(x + 3\\right)}{x} & 0\\\\0 & 0 & 0 & \\frac{\\left(x + 2\\right)^{2}}{x} & 0 & \\frac{\\left(x + 2\\right) \\left(x + 4\\right)}{x}\\\\0 & 0 & 0 & 0 & \\frac{\\left(x + 3\\right)^{2}}{x} & 0\\\\0 & 0 & 0 & 0 & 0 & \\left(1 + \\frac{4}{x}\\right) \\left(x + 4\\right)\\\\0 & 0 & 0 & 0 & 0 & 0\\end{matrix}\\right]$"
      ],
      "text/plain": [
       "Matrix([\n",
       "[0, x,            0,        x + 2,                 0,             x + 4],\n",
       "[0, 0, (x + 1)**2/x,            0, (x + 1)*(x + 3)/x,                 0],\n",
       "[0, 0,            0, (x + 2)**2/x,                 0, (x + 2)*(x + 4)/x],\n",
       "[0, 0,            0,            0,      (x + 3)**2/x,                 0],\n",
       "[0, 0,            0,            0,                 0, (1 + 4/x)*(x + 4)],\n",
       "[0, 0,            0,            0,                 0,                 0]])"
      ]
     },
     "execution_count": 108,
     "metadata": {},
     "output_type": "execute_result"
    }
   ],
   "source": [
    "S.inv()*D"
   ]
  },
  {
   "cell_type": "code",
   "execution_count": 192,
   "id": "44ce8163-7b54-4e45-afa1-0cc1a7522c7b",
   "metadata": {},
   "outputs": [],
   "source": [
    "n = 8\n",
    "lam = 3\n",
    "mat = np.zeros((n,n))\n",
    "#mat[0,lam::2] = np.arange(lam,n,2)\n",
    "for i in range(n-1):\n",
    "    mat[i, i+lam::2] = (lam + i)/ lam *np.arange((i+lam),n,2)# * self.x_scale"
   ]
  },
  {
   "cell_type": "code",
   "execution_count": 193,
   "id": "952e83d0-8c9e-49db-bed8-718c7f5a7f04",
   "metadata": {},
   "outputs": [
    {
     "data": {
      "text/plain": [
       "array([[ 0.        ,  0.        ,  0.        ,  3.        ,  0.        ,\n",
       "         5.        ,  0.        ,  7.        ],\n",
       "       [ 0.        ,  0.        ,  0.        ,  0.        ,  5.33333333,\n",
       "         0.        ,  8.        ,  0.        ],\n",
       "       [ 0.        ,  0.        ,  0.        ,  0.        ,  0.        ,\n",
       "         8.33333333,  0.        , 11.66666667],\n",
       "       [ 0.        ,  0.        ,  0.        ,  0.        ,  0.        ,\n",
       "         0.        , 12.        ,  0.        ],\n",
       "       [ 0.        ,  0.        ,  0.        ,  0.        ,  0.        ,\n",
       "         0.        ,  0.        , 16.33333333],\n",
       "       [ 0.        ,  0.        ,  0.        ,  0.        ,  0.        ,\n",
       "         0.        ,  0.        ,  0.        ],\n",
       "       [ 0.        ,  0.        ,  0.        ,  0.        ,  0.        ,\n",
       "         0.        ,  0.        ,  0.        ],\n",
       "       [ 0.        ,  0.        ,  0.        ,  0.        ,  0.        ,\n",
       "         0.        ,  0.        ,  0.        ]])"
      ]
     },
     "execution_count": 193,
     "metadata": {},
     "output_type": "execute_result"
    }
   ],
   "source": [
    "mat"
   ]
  },
  {
   "cell_type": "code",
   "execution_count": 21,
   "id": "d3e57502-3b87-48ee-8a0f-ed87bfecbba8",
   "metadata": {},
   "outputs": [
    {
     "data": {
      "text/plain": [
       "array([[ 0.        ,  0.        , -0.5       , -0.4       , -0.33333333],\n",
       "       [ 0.        ,  0.        ,  0.        ,  0.        ,  0.        ],\n",
       "       [ 1.        ,  0.66666667,  0.5       ,  0.4       ,  0.33333333]])"
      ]
     },
     "execution_count": 21,
     "metadata": {},
     "output_type": "execute_result"
    }
   ],
   "source": [
    "n = 5\n",
    "alp = 2.0\n",
    "\n",
    "S =  np.array([np.append([0,0],(-alp/(alp+2 + np.arange(n-2)))), np.zeros(n), (alp / (alp + np.arange(n))) ])\n",
    "S"
   ]
  },
  {
   "cell_type": "code",
   "execution_count": null,
   "id": "7651e788",
   "metadata": {},
   "outputs": [],
   "source": []
  },
  {
   "cell_type": "code",
   "execution_count": null,
   "id": "7325dc48",
   "metadata": {},
   "outputs": [],
   "source": []
  }
 ],
 "metadata": {
  "kernelspec": {
   "display_name": "Python 3 (ipykernel)",
   "language": "python",
   "name": "python3"
  },
  "language_info": {
   "codemirror_mode": {
    "name": "ipython",
    "version": 3
   },
   "file_extension": ".py",
   "mimetype": "text/x-python",
   "name": "python",
   "nbconvert_exporter": "python",
   "pygments_lexer": "ipython3",
   "version": "3.12.1"
  }
 },
 "nbformat": 4,
 "nbformat_minor": 5
}
